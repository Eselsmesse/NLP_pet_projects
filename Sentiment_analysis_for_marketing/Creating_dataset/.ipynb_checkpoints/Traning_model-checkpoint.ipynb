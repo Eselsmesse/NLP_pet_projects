{
 "cells": [
  {
   "cell_type": "code",
   "execution_count": 2,
   "id": "4e33c7b8",
   "metadata": {},
   "outputs": [],
   "source": [
    "import nltk\n",
    "from nltk import sent_tokenize, pos_tag\n",
    "from nltk.tokenize import TreebankWordTokenizer\n",
    "from nltk.stem import WordNetLemmatizer\n",
    "from nltk.corpus import wordnet as wn\n",
    "from nltk.corpus import sentiwordnet as swn\n",
    "from nltk.sentiment.util import mark_negation\n",
    "from string import punctuation\n",
    "from IPython.display import display\n",
    "import pandas as pd\n",
    "import numpy as np\n",
    "import seaborn as sns\n",
    "import matplotlib.pyplot as plt\n",
    "from sklearn.metrics import confusion_matrix\n",
    "pd.set_option('display.max_columns', None)\n",
    "pd.set_option('display.max_colwidth', None)"
   ]
  },
  {
   "cell_type": "markdown",
   "id": "c15c59a1",
   "metadata": {},
   "source": [
    "# Sentiment Scoring Using SentiWordNet"
   ]
  },
  {
   "cell_type": "code",
   "execution_count": 3,
   "id": "f2e71c98",
   "metadata": {},
   "outputs": [],
   "source": [
    "def penn_to_wn(tag):\n",
    "    \"\"\"\n",
    "        Convert between the PennTreebank tags to simple Wordnet tags\n",
    "    \"\"\"\n",
    "    if tag.startswith('J'):\n",
    "        return wn.ADJ\n",
    "    elif tag.startswith('N'):\n",
    "        return wn.NOUN\n",
    "    elif tag.startswith('R'):\n",
    "        return wn.ADV\n",
    "    elif tag.startswith('V'):\n",
    "        return wn.VERB\n",
    "    return None\n"
   ]
  },
  {
   "cell_type": "code",
   "execution_count": 4,
   "id": "1ca04c10",
   "metadata": {},
   "outputs": [],
   "source": [
    "def get_sentiment_score(text):\n",
    "    \"\"\"\n",
    "        This method returns the sentiment score of a given text using SentiWordNet sentiment scores.\n",
    "        input: text\n",
    "        output: numeric (double) score, >0 means positive sentiment and <0 means negative sentiment.\n",
    "    \"\"\"  \n",
    "    total_score = 0\n",
    "    raw_sentences = sent_tokenize(text)\n",
    "    \n",
    "    for sentence in raw_sentences:\n",
    "\n",
    "        sent_score = 0\n",
    "        sentence = str(sentence)\n",
    "        sentence = sentence.replace('<br />', ' ').translate(str.maketrans('','', punctuation)).lower\n",
    "        tokens = TreebankWordTokenizer().tokenize(text)\n",
    "        tags = pos_tag(tokens)\n",
    "        for word, tag in tags:\n",
    "            wn_tag = penn_to_wn(tag)\n",
    "            if not wn_tag:\n",
    "                continue\n",
    "            lemma = WordNetLemmatizer().lemmatize(word, pos=wn_tag)\n",
    "            if not lemma:\n",
    "                continue\n",
    "            synsets = wn.synsets(lemma, pos=wn_tag)\n",
    "            if not synsets:\n",
    "                continue\n",
    "            synset = synsets[0]\n",
    "            swn_synset = swn.senti_synset(synset.name())\n",
    "            sent_score += swn_synset.pos_score() - swn_synset.neg_score()\n",
    "\n",
    "\n",
    "    total_score = total_score + (sent_score / len(tokens))\n",
    "\n",
    "    \n",
    "    return (total_score / len(raw_sentences)) * 100\n"
   ]
  },
  {
   "cell_type": "code",
   "execution_count": 5,
   "id": "232a0cdf",
   "metadata": {},
   "outputs": [],
   "source": [
    "reviews = pd.read_csv(\"small_corpus.csv\")"
   ]
  },
  {
   "cell_type": "code",
   "execution_count": 6,
   "id": "5b720e4d",
   "metadata": {},
   "outputs": [
    {
     "data": {
      "text/plain": [
       "(4500, 2)"
      ]
     },
     "execution_count": 6,
     "metadata": {},
     "output_type": "execute_result"
    }
   ],
   "source": [
    "reviews.shape"
   ]
  },
  {
   "cell_type": "code",
   "execution_count": 7,
   "id": "f9056e08",
   "metadata": {},
   "outputs": [],
   "source": [
    "reviews = reviews.dropna(subset=['reviewText'])"
   ]
  },
  {
   "cell_type": "code",
   "execution_count": 8,
   "id": "5eee4ec6",
   "metadata": {},
   "outputs": [
    {
     "data": {
      "text/plain": [
       "(4500, 2)"
      ]
     },
     "execution_count": 8,
     "metadata": {},
     "output_type": "execute_result"
    }
   ],
   "source": [
    "reviews.shape"
   ]
  },
  {
   "cell_type": "code",
   "execution_count": 9,
   "id": "5b423ea9",
   "metadata": {},
   "outputs": [],
   "source": [
    "reviews['swn_score'] = reviews['reviewText'].apply(lambda text : get_sentiment_score(text))"
   ]
  },
  {
   "cell_type": "code",
   "execution_count": 10,
   "id": "6dd2c9ee",
   "metadata": {},
   "outputs": [
    {
     "data": {
      "text/html": [
       "<div>\n",
       "<style scoped>\n",
       "    .dataframe tbody tr th:only-of-type {\n",
       "        vertical-align: middle;\n",
       "    }\n",
       "\n",
       "    .dataframe tbody tr th {\n",
       "        vertical-align: top;\n",
       "    }\n",
       "\n",
       "    .dataframe thead th {\n",
       "        text-align: right;\n",
       "    }\n",
       "</style>\n",
       "<table border=\"1\" class=\"dataframe\">\n",
       "  <thead>\n",
       "    <tr style=\"text-align: right;\">\n",
       "      <th></th>\n",
       "      <th>reviewText</th>\n",
       "      <th>overall</th>\n",
       "      <th>swn_score</th>\n",
       "    </tr>\n",
       "  </thead>\n",
       "  <tbody>\n",
       "    <tr>\n",
       "      <th>0</th>\n",
       "      <td>Best gift ever!</td>\n",
       "      <td>5</td>\n",
       "      <td>25.000000</td>\n",
       "    </tr>\n",
       "    <tr>\n",
       "      <th>1</th>\n",
       "      <td>A tank with attitude! what else is there to say, lol</td>\n",
       "      <td>5</td>\n",
       "      <td>0.480769</td>\n",
       "    </tr>\n",
       "    <tr>\n",
       "      <th>2</th>\n",
       "      <td>My 9yr old granddaughter LOVES Zelda games and when I gave her this one, she was ecstatic!  She plays all the games whenever she has the chance (2 hrs a day max).</td>\n",
       "      <td>5</td>\n",
       "      <td>2.027027</td>\n",
       "    </tr>\n",
       "    <tr>\n",
       "      <th>3</th>\n",
       "      <td>Deus Ex has a nasty habit of pulling you into its world when you least expect it to, leaving your concerns of the real world behind (such as your job, eating, your spouse) as you slip on the trenchcoat of UNATCO operative JC Denton.\\nThe game plays out like some crazy episode of the X-Files, with conspiracies flying at the player from all directions.  The very basic premise of Deus Ex has agent JC Denton investigating a mysterious plague that has engulfed the world in the near future.  Denton is augmented with nano-technology, which allows for the development of specific abilities, such as regeneration of health or increased strength.  Through the course of the game the player can decide how to grow the character.  He can be a ruthless killing machine, an expert in all weapons, or he can operate via stealth, breaking into computer systems or installations silently to accomplish his goals.\\nThe conspiracies unfold via conversations with other characters, such as Denton's fellow UNATCO agent and brother, Paul; e-mails and other electronic communications.  In the world of Deus Ex, all is not what it seems, as JC Denton soon learns.\\nOne of the best aspects of the game is that it can be played as the player sees fit.  With each situation JC encounters, there are many different ways to solve the problem.  This also results in high replayability, as you can start the game over and try it with different tactics.\\nWith many places selling Deus Ex at a discount, now is the perfect time to engulf yourself in the world of Deus Ex.</td>\n",
       "      <td>5</td>\n",
       "      <td>0.025318</td>\n",
       "    </tr>\n",
       "    <tr>\n",
       "      <th>4</th>\n",
       "      <td>a great deal if the codes work, and you can buy for less than $20</td>\n",
       "      <td>5</td>\n",
       "      <td>-2.941176</td>\n",
       "    </tr>\n",
       "  </tbody>\n",
       "</table>\n",
       "</div>"
      ],
      "text/plain": [
       "                                                                                                                                                                                                                                                                                                                                                                                                                                                                                                                                                                                                                                                                                                                                                                                                                                                                                                                                                                                                                                                                                                                                                                                                                                                                                                                                                                                                                                                                                                                                                                                                  reviewText  \\\n",
       "0                                                                                                                                                                                                                                                                                                                                                                                                                                                                                                                                                                                                                                                                                                                                                                                                                                                                                                                                                                                                                                                                                                                                                                                                                                                                                                                                                                                                                                                                                                                                                                                            Best gift ever!   \n",
       "1                                                                                                                                                                                                                                                                                                                                                                                                                                                                                                                                                                                                                                                                                                                                                                                                                                                                                                                                                                                                                                                                                                                                                                                                                                                                                                                                                                                                                                                                                                                                                       A tank with attitude! what else is there to say, lol   \n",
       "2                                                                                                                                                                                                                                                                                                                                                                                                                                                                                                                                                                                                                                                                                                                                                                                                                                                                                                                                                                                                                                                                                                                                                                                                                                                                                                                                                                                                                                         My 9yr old granddaughter LOVES Zelda games and when I gave her this one, she was ecstatic!  She plays all the games whenever she has the chance (2 hrs a day max).   \n",
       "3  Deus Ex has a nasty habit of pulling you into its world when you least expect it to, leaving your concerns of the real world behind (such as your job, eating, your spouse) as you slip on the trenchcoat of UNATCO operative JC Denton.\\nThe game plays out like some crazy episode of the X-Files, with conspiracies flying at the player from all directions.  The very basic premise of Deus Ex has agent JC Denton investigating a mysterious plague that has engulfed the world in the near future.  Denton is augmented with nano-technology, which allows for the development of specific abilities, such as regeneration of health or increased strength.  Through the course of the game the player can decide how to grow the character.  He can be a ruthless killing machine, an expert in all weapons, or he can operate via stealth, breaking into computer systems or installations silently to accomplish his goals.\\nThe conspiracies unfold via conversations with other characters, such as Denton's fellow UNATCO agent and brother, Paul; e-mails and other electronic communications.  In the world of Deus Ex, all is not what it seems, as JC Denton soon learns.\\nOne of the best aspects of the game is that it can be played as the player sees fit.  With each situation JC encounters, there are many different ways to solve the problem.  This also results in high replayability, as you can start the game over and try it with different tactics.\\nWith many places selling Deus Ex at a discount, now is the perfect time to engulf yourself in the world of Deus Ex.   \n",
       "4                                                                                                                                                                                                                                                                                                                                                                                                                                                                                                                                                                                                                                                                                                                                                                                                                                                                                                                                                                                                                                                                                                                                                                                                                                                                                                                                                                                                                                                                                                                                          a great deal if the codes work, and you can buy for less than $20   \n",
       "\n",
       "   overall  swn_score  \n",
       "0        5  25.000000  \n",
       "1        5   0.480769  \n",
       "2        5   2.027027  \n",
       "3        5   0.025318  \n",
       "4        5  -2.941176  "
      ]
     },
     "execution_count": 10,
     "metadata": {},
     "output_type": "execute_result"
    }
   ],
   "source": [
    "reviews.head(5)"
   ]
  },
  {
   "cell_type": "code",
   "execution_count": 13,
   "id": "21c84c92",
   "metadata": {},
   "outputs": [
    {
     "data": {
      "image/png": "[encoded data removed]",
      "text/plain": [
       "<Figure size 1440x720 with 1 Axes>"
      ]
     },
     "metadata": {
      "needs_background": "light"
     },
     "output_type": "display_data"
    }
   ],
   "source": [
    "fig , ax = plt.subplots(nrows=1, ncols=1, figsize=(20,10))\n",
    "sns.histplot(x='swn_score', data=reviews.query(\"swn_score < 8 and swn_score > -8\"), ax=ax, bins=80)\n",
    "plt.show()"
   ]
  },
  {
   "cell_type": "code",
   "execution_count": 14,
   "id": "b4cfdfe0",
   "metadata": {},
   "outputs": [],
   "source": [
    "reviews['swn_sentiment'] = reviews['swn_score'].apply(lambda x: \"positive\" if x > 1 else (\"negative\" if x < 0.5 else \"neutral\"))"
   ]
  },
  {
   "cell_type": "code",
   "execution_count": 15,
   "id": "0ca39c06",
   "metadata": {},
   "outputs": [
    {
     "data": {
      "text/html": [
       "<div>\n",
       "<style scoped>\n",
       "    .dataframe tbody tr th:only-of-type {\n",
       "        vertical-align: middle;\n",
       "    }\n",
       "\n",
       "    .dataframe tbody tr th {\n",
       "        vertical-align: top;\n",
       "    }\n",
       "\n",
       "    .dataframe thead th {\n",
       "        text-align: right;\n",
       "    }\n",
       "</style>\n",
       "<table border=\"1\" class=\"dataframe\">\n",
       "  <thead>\n",
       "    <tr style=\"text-align: right;\">\n",
       "      <th></th>\n",
       "      <th>reviewText</th>\n",
       "      <th>overall</th>\n",
       "      <th>swn_score</th>\n",
       "      <th>swn_sentiment</th>\n",
       "    </tr>\n",
       "  </thead>\n",
       "  <tbody>\n",
       "    <tr>\n",
       "      <th>0</th>\n",
       "      <td>Best gift ever!</td>\n",
       "      <td>5</td>\n",
       "      <td>25.000000</td>\n",
       "      <td>positive</td>\n",
       "    </tr>\n",
       "    <tr>\n",
       "      <th>1</th>\n",
       "      <td>A tank with attitude! what else is there to say, lol</td>\n",
       "      <td>5</td>\n",
       "      <td>0.480769</td>\n",
       "      <td>negative</td>\n",
       "    </tr>\n",
       "    <tr>\n",
       "      <th>2</th>\n",
       "      <td>My 9yr old granddaughter LOVES Zelda games and when I gave her this one, she was ecstatic!  She plays all the games whenever she has the chance (2 hrs a day max).</td>\n",
       "      <td>5</td>\n",
       "      <td>2.027027</td>\n",
       "      <td>positive</td>\n",
       "    </tr>\n",
       "    <tr>\n",
       "      <th>3</th>\n",
       "      <td>Deus Ex has a nasty habit of pulling you into its world when you least expect it to, leaving your concerns of the real world behind (such as your job, eating, your spouse) as you slip on the trenchcoat of UNATCO operative JC Denton.\\nThe game plays out like some crazy episode of the X-Files, with conspiracies flying at the player from all directions.  The very basic premise of Deus Ex has agent JC Denton investigating a mysterious plague that has engulfed the world in the near future.  Denton is augmented with nano-technology, which allows for the development of specific abilities, such as regeneration of health or increased strength.  Through the course of the game the player can decide how to grow the character.  He can be a ruthless killing machine, an expert in all weapons, or he can operate via stealth, breaking into computer systems or installations silently to accomplish his goals.\\nThe conspiracies unfold via conversations with other characters, such as Denton's fellow UNATCO agent and brother, Paul; e-mails and other electronic communications.  In the world of Deus Ex, all is not what it seems, as JC Denton soon learns.\\nOne of the best aspects of the game is that it can be played as the player sees fit.  With each situation JC encounters, there are many different ways to solve the problem.  This also results in high replayability, as you can start the game over and try it with different tactics.\\nWith many places selling Deus Ex at a discount, now is the perfect time to engulf yourself in the world of Deus Ex.</td>\n",
       "      <td>5</td>\n",
       "      <td>0.025318</td>\n",
       "      <td>negative</td>\n",
       "    </tr>\n",
       "    <tr>\n",
       "      <th>4</th>\n",
       "      <td>a great deal if the codes work, and you can buy for less than $20</td>\n",
       "      <td>5</td>\n",
       "      <td>-2.941176</td>\n",
       "      <td>negative</td>\n",
       "    </tr>\n",
       "  </tbody>\n",
       "</table>\n",
       "</div>"
      ],
      "text/plain": [
       "                                                                                                                                                                                                                                                                                                                                                                                                                                                                                                                                                                                                                                                                                                                                                                                                                                                                                                                                                                                                                                                                                                                                                                                                                                                                                                                                                                                                                                                                                                                                                                                                  reviewText  \\\n",
       "0                                                                                                                                                                                                                                                                                                                                                                                                                                                                                                                                                                                                                                                                                                                                                                                                                                                                                                                                                                                                                                                                                                                                                                                                                                                                                                                                                                                                                                                                                                                                                                                            Best gift ever!   \n",
       "1                                                                                                                                                                                                                                                                                                                                                                                                                                                                                                                                                                                                                                                                                                                                                                                                                                                                                                                                                                                                                                                                                                                                                                                                                                                                                                                                                                                                                                                                                                                                                       A tank with attitude! what else is there to say, lol   \n",
       "2                                                                                                                                                                                                                                                                                                                                                                                                                                                                                                                                                                                                                                                                                                                                                                                                                                                                                                                                                                                                                                                                                                                                                                                                                                                                                                                                                                                                                                         My 9yr old granddaughter LOVES Zelda games and when I gave her this one, she was ecstatic!  She plays all the games whenever she has the chance (2 hrs a day max).   \n",
       "3  Deus Ex has a nasty habit of pulling you into its world when you least expect it to, leaving your concerns of the real world behind (such as your job, eating, your spouse) as you slip on the trenchcoat of UNATCO operative JC Denton.\\nThe game plays out like some crazy episode of the X-Files, with conspiracies flying at the player from all directions.  The very basic premise of Deus Ex has agent JC Denton investigating a mysterious plague that has engulfed the world in the near future.  Denton is augmented with nano-technology, which allows for the development of specific abilities, such as regeneration of health or increased strength.  Through the course of the game the player can decide how to grow the character.  He can be a ruthless killing machine, an expert in all weapons, or he can operate via stealth, breaking into computer systems or installations silently to accomplish his goals.\\nThe conspiracies unfold via conversations with other characters, such as Denton's fellow UNATCO agent and brother, Paul; e-mails and other electronic communications.  In the world of Deus Ex, all is not what it seems, as JC Denton soon learns.\\nOne of the best aspects of the game is that it can be played as the player sees fit.  With each situation JC encounters, there are many different ways to solve the problem.  This also results in high replayability, as you can start the game over and try it with different tactics.\\nWith many places selling Deus Ex at a discount, now is the perfect time to engulf yourself in the world of Deus Ex.   \n",
       "4                                                                                                                                                                                                                                                                                                                                                                                                                                                                                                                                                                                                                                                                                                                                                                                                                                                                                                                                                                                                                                                                                                                                                                                                                                                                                                                                                                                                                                                                                                                                          a great deal if the codes work, and you can buy for less than $20   \n",
       "\n",
       "   overall  swn_score swn_sentiment  \n",
       "0        5  25.000000      positive  \n",
       "1        5   0.480769      negative  \n",
       "2        5   2.027027      positive  \n",
       "3        5   0.025318      negative  \n",
       "4        5  -2.941176      negative  "
      ]
     },
     "execution_count": 15,
     "metadata": {},
     "output_type": "execute_result"
    }
   ],
   "source": [
    "reviews.head(5)"
   ]
  },
  {
   "cell_type": "code",
   "execution_count": 16,
   "id": "fc954567",
   "metadata": {},
   "outputs": [
    {
     "data": {
      "text/plain": [
       "negative    3219\n",
       "positive     926\n",
       "neutral      355\n",
       "Name: swn_sentiment, dtype: int64"
      ]
     },
     "execution_count": 16,
     "metadata": {},
     "output_type": "execute_result"
    }
   ],
   "source": [
    "reviews['swn_sentiment'].value_counts()"
   ]
  },
  {
   "cell_type": "code",
   "execution_count": 17,
   "id": "f97384b2",
   "metadata": {},
   "outputs": [
    {
     "data": {
      "text/plain": [
       "<AxesSubplot:xlabel='overall', ylabel='count'>"
      ]
     },
     "execution_count": 17,
     "metadata": {},
     "output_type": "execute_result"
    },
    {
     "data": {
      "image/png": "[encoded data removed]",
      "text/plain": [
       "<Figure size 432x288 with 1 Axes>"
      ]
     },
     "metadata": {
      "needs_background": "light"
     },
     "output_type": "display_data"
    }
   ],
   "source": [
    "sns.countplot(x='overall', hue='swn_sentiment', data=reviews)"
   ]
  },
  {
   "cell_type": "code",
   "execution_count": 18,
   "id": "12fc3832",
   "metadata": {},
   "outputs": [
    {
     "data": {
      "text/plain": [
       "<AxesSubplot:xlabel='swn_sentiment', ylabel='overall'>"
      ]
     },
     "execution_count": 18,
     "metadata": {},
     "output_type": "execute_result"
    },
    {
     "data": {
      "image/png": "[encoded data removed]",
      "text/plain": [
       "<Figure size 432x288 with 1 Axes>"
      ]
     },
     "metadata": {
      "needs_background": "light"
     },
     "output_type": "display_data"
    }
   ],
   "source": [
    "sns.boxplot(x='swn_sentiment', y='overall', data = reviews)"
   ]
  },
  {
   "cell_type": "code",
   "execution_count": 19,
   "id": "f70df281",
   "metadata": {},
   "outputs": [
    {
     "data": {
      "image/png": "[encoded data removed]",
      "text/plain": [
       "<Figure size 864x504 with 1 Axes>"
      ]
     },
     "metadata": {
      "needs_background": "light"
     },
     "output_type": "display_data"
    }
   ],
   "source": [
    "fig, ax = plt.subplots(nrows=1, ncols=1, figsize = (12,7))\n",
    "sns.boxenplot(x='overall', y='swn_score', data=reviews, ax=ax)\n",
    "plt.show()"
   ]
  },
  {
   "cell_type": "code",
   "execution_count": 20,
   "id": "8acc12d2",
   "metadata": {},
   "outputs": [],
   "source": [
    "reviews['true_sentiment'] = \\\n",
    "    reviews['overall'].apply(lambda x: \"positive\" if x>=4 else (\"neutral\" if x==3 else \"negative\"))"
   ]
  },
  {
   "cell_type": "code",
   "execution_count": 21,
   "id": "2cd23d5e",
   "metadata": {},
   "outputs": [],
   "source": [
    "y_swn_pred, y_true = reviews['swn_sentiment'].tolist(), reviews['true_sentiment'].tolist()"
   ]
  },
  {
   "cell_type": "code",
   "execution_count": 22,
   "id": "ba95cee2",
   "metadata": {},
   "outputs": [],
   "source": [
    "cm = confusion_matrix(y_swn_pred, y_true)"
   ]
  },
  {
   "cell_type": "code",
   "execution_count": 23,
   "id": "a7416b2f",
   "metadata": {},
   "outputs": [
    {
     "data": {
      "image/png": "[encoded data removed]",
      "text/plain": [
       "<Figure size 576x360 with 2 Axes>"
      ]
     },
     "metadata": {
      "needs_background": "light"
     },
     "output_type": "display_data"
    }
   ],
   "source": [
    "fig, ax = plt.subplots(ncols=1, nrows=1, figsize=(8,5))\n",
    "sns.heatmap(cm, cmap='viridis_r', ax=ax, annot=True, fmt='d')\n",
    "ax.set_xlabel('Predicted')\n",
    "ax.set_ylabel('True');"
   ]
  },
  {
   "cell_type": "markdown",
   "id": "20a76d6a",
   "metadata": {},
   "source": [
    "## Calculating score"
   ]
  },
  {
   "cell_type": "code",
   "execution_count": 24,
   "id": "42390ef6",
   "metadata": {},
   "outputs": [],
   "source": [
    "tp, tn, fp, fn = 1675, 43+183+64+666, 393+1151, 129+196"
   ]
  },
  {
   "cell_type": "code",
   "execution_count": 25,
   "id": "6cd983f9",
   "metadata": {},
   "outputs": [],
   "source": [
    "recall = tp / (tp+fn)\n",
    "specifity = tn / (tn + fp)\n",
    "precision = tp / (tp + fp)\n",
    "f1 = (2*tp) / (2*tp + fp + fn)"
   ]
  },
  {
   "cell_type": "code",
   "execution_count": 26,
   "id": "f1a3a360",
   "metadata": {
    "scrolled": true
   },
   "outputs": [
    {
     "name": "stdout",
     "output_type": "stream",
     "text": [
      "recall: 0.8375\n",
      "precission: 0.5203479341410376\n",
      "f1 score: 0.6418854186625791\n"
     ]
    }
   ],
   "source": [
    "print(f\"recall: {recall}\\nprecission: {precision}\\nf1 score: {f1}\")"
   ]
  },
  {
   "cell_type": "markdown",
   "id": "00e46fa6",
   "metadata": {},
   "source": [
    "# Sentiment Scoring Model Using NLTK Opinion Lexicon"
   ]
  },
  {
   "cell_type": "code",
   "execution_count": 27,
   "id": "73f1be02",
   "metadata": {},
   "outputs": [],
   "source": [
    "import nltk\n",
    "from nltk.corpus import opinion_lexicon\n",
    "from nltk.tokenize import word_tokenize, sent_tokenize"
   ]
  },
  {
   "cell_type": "code",
   "execution_count": 28,
   "id": "5d414e5c",
   "metadata": {},
   "outputs": [],
   "source": [
    "pos_words = list(opinion_lexicon.positive())\n",
    "neg_words = list(opinion_lexicon.negative())"
   ]
  },
  {
   "cell_type": "code",
   "execution_count": 29,
   "id": "32db8755",
   "metadata": {},
   "outputs": [],
   "source": [
    "def get_sentiment_score_oplex(text):\n",
    "    \n",
    "    \"\"\"\n",
    "        This method returns the sentiment score of a given text using nltk opinion lexicon.\n",
    "        input: text\n",
    "        output: numeric (double) score, >0 means positive sentiment and <0 means negative sentiment.\n",
    "    \"\"\"    \n",
    "    total_score = 0\n",
    "\n",
    "    raw_sentences = sent_tokenize(text)\n",
    "    \n",
    "    for sentence in raw_sentences:\n",
    "\n",
    "        sent_score = 0     \n",
    "        sentence = str(sentence)\n",
    "        sentence = sentence.replace(\"<br />\",\" \").translate(str.maketrans('','',punctuation)).lower()\n",
    "        tokens = TreebankWordTokenizer().tokenize(text)\n",
    "        for token in tokens:\n",
    "            sent_score = sent_score + 1 if token in pos_words else (sent_score - 1 if token in neg_words else sent_score)\n",
    "        total_score = total_score + (sent_score / len(tokens))\n",
    "\n",
    "    \n",
    "    return total_score"
   ]
  },
  {
   "cell_type": "code",
   "execution_count": 30,
   "id": "fa040db3",
   "metadata": {},
   "outputs": [],
   "source": [
    "reviews['oplex_sentiment_score'] = reviews['reviewText'].apply(lambda x: get_sentiment_score_oplex(x))"
   ]
  },
  {
   "cell_type": "code",
   "execution_count": 31,
   "id": "eec2c779",
   "metadata": {},
   "outputs": [
    {
     "data": {
      "image/png": "[encoded data removed]",
      "text/plain": [
       "<Figure size 1440x720 with 1 Axes>"
      ]
     },
     "metadata": {
      "needs_background": "light"
     },
     "output_type": "display_data"
    }
   ],
   "source": [
    "fig , ax = plt.subplots(nrows=1, ncols=1, figsize=(20,10))\n",
    "sns.histplot(x='oplex_sentiment_score',\\\n",
    "             data=reviews.query(\"oplex_sentiment_score < 1 and oplex_sentiment_score>-1\"), ax=ax)\n",
    "plt.show()"
   ]
  },
  {
   "cell_type": "code",
   "execution_count": 32,
   "id": "09562435",
   "metadata": {},
   "outputs": [],
   "source": [
    "reviews['oplex_sentiment'] = (reviews['oplex_sentiment_score']\n",
    "                              .apply(lambda x: \"positive\" if x > 0.1 else (\"negative\" if x < 0 else \"neutral\")))\n"
   ]
  },
  {
   "cell_type": "code",
   "execution_count": 33,
   "id": "feaae0f1",
   "metadata": {},
   "outputs": [
    {
     "data": {
      "text/plain": [
       "positive    1863\n",
       "neutral     1573\n",
       "negative    1064\n",
       "Name: oplex_sentiment, dtype: int64"
      ]
     },
     "execution_count": 33,
     "metadata": {},
     "output_type": "execute_result"
    }
   ],
   "source": [
    "reviews['oplex_sentiment'].value_counts()"
   ]
  },
  {
   "cell_type": "code",
   "execution_count": 34,
   "id": "1966e2f9",
   "metadata": {},
   "outputs": [
    {
     "data": {
      "text/plain": [
       "<AxesSubplot:xlabel='overall', ylabel='count'>"
      ]
     },
     "execution_count": 34,
     "metadata": {},
     "output_type": "execute_result"
    },
    {
     "data": {
      "image/png": "[encoded data removed]",
      "text/plain": [
       "<Figure size 432x288 with 1 Axes>"
      ]
     },
     "metadata": {
      "needs_background": "light"
     },
     "output_type": "display_data"
    }
   ],
   "source": [
    "sns.countplot(x='overall', hue='oplex_sentiment', data=reviews)"
   ]
  },
  {
   "cell_type": "code",
   "execution_count": 35,
   "id": "64c74b06",
   "metadata": {},
   "outputs": [
    {
     "data": {
      "text/plain": [
       "<AxesSubplot:xlabel='oplex_sentiment', ylabel='overall'>"
      ]
     },
     "execution_count": 35,
     "metadata": {},
     "output_type": "execute_result"
    },
    {
     "data": {
      "image/png": "[encoded data removed]",
      "text/plain": [
       "<Figure size 432x288 with 1 Axes>"
      ]
     },
     "metadata": {
      "needs_background": "light"
     },
     "output_type": "display_data"
    }
   ],
   "source": [
    "sns.boxplot(x='oplex_sentiment', y='overall', data = reviews)"
   ]
  },
  {
   "cell_type": "code",
   "execution_count": 36,
   "id": "e7f0b148",
   "metadata": {},
   "outputs": [
    {
     "data": {
      "image/png": "[encoded data removed]",
      "text/plain": [
       "<Figure size 864x504 with 1 Axes>"
      ]
     },
     "metadata": {
      "needs_background": "light"
     },
     "output_type": "display_data"
    }
   ],
   "source": [
    "fig, ax = plt.subplots(nrows=1, ncols=1, figsize = (12,7))\n",
    "sns.boxenplot(y='oplex_sentiment_score', x='overall', data=reviews, ax=ax)\n",
    "plt.show()"
   ]
  },
  {
   "cell_type": "markdown",
   "id": "b4d901fe",
   "metadata": {},
   "source": [
    "## Calculating score"
   ]
  },
  {
   "cell_type": "code",
   "execution_count": 37,
   "id": "d6640cec",
   "metadata": {},
   "outputs": [],
   "source": [
    "y_oplex_pred = reviews['oplex_sentiment'].tolist()"
   ]
  },
  {
   "cell_type": "code",
   "execution_count": 38,
   "id": "1ec0a465",
   "metadata": {},
   "outputs": [],
   "source": [
    "cm_oplex = confusion_matrix(y_oplex_pred, y_true)"
   ]
  },
  {
   "cell_type": "code",
   "execution_count": 39,
   "id": "68e90d49",
   "metadata": {},
   "outputs": [
    {
     "data": {
      "image/png": "[encoded data removed]",
      "text/plain": [
       "<Figure size 576x360 with 2 Axes>"
      ]
     },
     "metadata": {
      "needs_background": "light"
     },
     "output_type": "display_data"
    }
   ],
   "source": [
    "fig, ax = plt.subplots(ncols=1, nrows=1, figsize=(8,5))\n",
    "sns.heatmap(cm_oplex, cmap='viridis_r', ax=ax, annot=True, fmt='d')\n",
    "ax.set_xlabel('Predicted')\n",
    "ax.set_ylabel('True');"
   ]
  },
  {
   "cell_type": "code",
   "execution_count": 40,
   "id": "6852b115",
   "metadata": {},
   "outputs": [],
   "source": [
    "tp, tn, fp, fn = cm_oplex[0][0], (cm_oplex[1][1]+cm_oplex[1][2]+\n",
    "                                  cm_oplex[2][1]+cm_oplex[2][2]), cm_oplex[1][0]+cm_oplex[2][0], cm_oplex[0][1]+cm_oplex[0][2]"
   ]
  },
  {
   "cell_type": "code",
   "execution_count": 41,
   "id": "b6aa6079",
   "metadata": {
    "scrolled": true
   },
   "outputs": [
    {
     "name": "stdout",
     "output_type": "stream",
     "text": [
      "recall: 0.7791353383458647\n",
      "precission: 0.4145\n",
      "f1 score: 0.5411227154046997\n"
     ]
    }
   ],
   "source": [
    "recall = tp / (tp+fn)\n",
    "specifity = tn / (tn+fp)\n",
    "precision = tp/(tp+fp)\n",
    "f1 = (2*tp) / (2*tp + fp + fn)\n",
    "\n",
    "print(f\"recall: {recall}\\nprecission: {precision}\\nf1 score: {f1}\")"
   ]
  },
  {
   "cell_type": "markdown",
   "id": "323f7a3e",
   "metadata": {},
   "source": [
    "# Results"
   ]
  },
  {
   "cell_type": "markdown",
   "id": "636f13d8",
   "metadata": {},
   "source": [
    "The results of the study showed that the accuracy of the estimate `SentiWordNet precission 0.5203` > `NLTK Opinion Lexiconprecission: 0.4145 `. Hence we have f1 score `0.6418` vs `0.5411`. \n",
    "\n",
    "Model base on SentiWordNet showed the best performance"
   ]
  }
 ],
 "metadata": {
  "kernelspec": {
   "display_name": "Python 3",
   "language": "python",
   "name": "python3"
  },
  "language_info": {
   "codemirror_mode": {
    "name": "ipython",
    "version": 3
   },
   "file_extension": ".py",
   "mimetype": "text/x-python",
   "name": "python",
   "nbconvert_exporter": "python",
   "pygments_lexer": "ipython3",
   "version": "3.8.8"
  },
  "toc": {
   "base_numbering": 1,
   "nav_menu": {},
   "number_sections": true,
   "sideBar": true,
   "skip_h1_title": false,
   "title_cell": "Table of Contents",
   "title_sidebar": "Contents",
   "toc_cell": false,
   "toc_position": {
    "height": "calc(100% - 180px)",
    "left": "10px",
    "top": "150px",
    "width": "384px"
   },
   "toc_section_display": true,
   "toc_window_display": true
  }
 },
 "nbformat": 4,
 "nbformat_minor": 5
}
