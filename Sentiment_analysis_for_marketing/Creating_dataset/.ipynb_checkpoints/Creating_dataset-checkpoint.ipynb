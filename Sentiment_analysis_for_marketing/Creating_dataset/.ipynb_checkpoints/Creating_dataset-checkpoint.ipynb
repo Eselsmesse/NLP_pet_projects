{
 "cells": [
  {
   "cell_type": "markdown",
   "id": "626d7b2f",
   "metadata": {},
   "source": [
    "Ваша задача как специалиста по НЛП в группе Growth Hacking Team состоит в следующем:\n",
    "\n",
    "Загрузите набор данных отзывов Amazon. DONE\n",
    "\n",
    "Создайте свой собственный набор данных из обзоров Amazon.\n",
    "\n",
    "Решите, нравится или не нравится людям видеоигра, которую они купили. Пометьте каждый отзыв оценкой тональности от -1 до 1.\n",
    "\n",
    "Проверьте производительность вашего анализатора настроений, сравнив оценки настроений с рейтингами отзывов.\n",
    "\n",
    "Оцените работу своего анализатора настроений и узнайте, удалось ли вам правильно пометить отзывы.\n",
    "\n",
    "Попробуйте другие методы анализа настроений. Узнайте, как люди оценивают купленную ими видеоигру, классифицируя отзывы как положительные, отрицательные и нейтральные.\n"
   ]
  },
  {
   "cell_type": "code",
   "execution_count": 16,
   "id": "9dad3d19",
   "metadata": {},
   "outputs": [],
   "source": [
    "import pandas as pd\n",
    "import seaborn as sns\n",
    "import matplotlib.pyplot as plt\n",
    "\n",
    "import warnings\n",
    "warnings.filterwarnings(\"ignore\")\n",
    "\n",
    "SEED = 123"
   ]
  },
  {
   "cell_type": "markdown",
   "id": "226584a2",
   "metadata": {},
   "source": [
    "# Download dataset and EDA"
   ]
  },
  {
   "cell_type": "code",
   "execution_count": 2,
   "id": "32cbb369",
   "metadata": {},
   "outputs": [],
   "source": [
    "primal_data = pd.read_json('Video_Games_5.json', lines=True)"
   ]
  },
  {
   "cell_type": "code",
   "execution_count": 3,
   "id": "57b52802",
   "metadata": {},
   "outputs": [
    {
     "data": {
      "text/html": [
       "<div>\n",
       "<style scoped>\n",
       "    .dataframe tbody tr th:only-of-type {\n",
       "        vertical-align: middle;\n",
       "    }\n",
       "\n",
       "    .dataframe tbody tr th {\n",
       "        vertical-align: top;\n",
       "    }\n",
       "\n",
       "    .dataframe thead th {\n",
       "        text-align: right;\n",
       "    }\n",
       "</style>\n",
       "<table border=\"1\" class=\"dataframe\">\n",
       "  <thead>\n",
       "    <tr style=\"text-align: right;\">\n",
       "      <th></th>\n",
       "      <th>overall</th>\n",
       "      <th>verified</th>\n",
       "      <th>reviewTime</th>\n",
       "      <th>reviewerID</th>\n",
       "      <th>asin</th>\n",
       "      <th>reviewerName</th>\n",
       "      <th>reviewText</th>\n",
       "      <th>summary</th>\n",
       "      <th>unixReviewTime</th>\n",
       "      <th>vote</th>\n",
       "      <th>style</th>\n",
       "      <th>image</th>\n",
       "    </tr>\n",
       "  </thead>\n",
       "  <tbody>\n",
       "    <tr>\n",
       "      <th>0</th>\n",
       "      <td>5</td>\n",
       "      <td>True</td>\n",
       "      <td>10 17, 2015</td>\n",
       "      <td>A1HP7NVNPFMA4N</td>\n",
       "      <td>0700026657</td>\n",
       "      <td>Ambrosia075</td>\n",
       "      <td>This game is a bit hard to get the hang of, bu...</td>\n",
       "      <td>but when you do it's great.</td>\n",
       "      <td>1445040000</td>\n",
       "      <td>NaN</td>\n",
       "      <td>NaN</td>\n",
       "      <td>NaN</td>\n",
       "    </tr>\n",
       "    <tr>\n",
       "      <th>1</th>\n",
       "      <td>4</td>\n",
       "      <td>False</td>\n",
       "      <td>07 27, 2015</td>\n",
       "      <td>A1JGAP0185YJI6</td>\n",
       "      <td>0700026657</td>\n",
       "      <td>travis</td>\n",
       "      <td>I played it a while but it was alright. The st...</td>\n",
       "      <td>But in spite of that it was fun, I liked it</td>\n",
       "      <td>1437955200</td>\n",
       "      <td>NaN</td>\n",
       "      <td>NaN</td>\n",
       "      <td>NaN</td>\n",
       "    </tr>\n",
       "    <tr>\n",
       "      <th>2</th>\n",
       "      <td>3</td>\n",
       "      <td>True</td>\n",
       "      <td>02 23, 2015</td>\n",
       "      <td>A1YJWEXHQBWK2B</td>\n",
       "      <td>0700026657</td>\n",
       "      <td>Vincent G. Mezera</td>\n",
       "      <td>ok game.</td>\n",
       "      <td>Three Stars</td>\n",
       "      <td>1424649600</td>\n",
       "      <td>NaN</td>\n",
       "      <td>NaN</td>\n",
       "      <td>NaN</td>\n",
       "    </tr>\n",
       "    <tr>\n",
       "      <th>3</th>\n",
       "      <td>2</td>\n",
       "      <td>True</td>\n",
       "      <td>02 20, 2015</td>\n",
       "      <td>A2204E1TH211HT</td>\n",
       "      <td>0700026657</td>\n",
       "      <td>Grandma KR</td>\n",
       "      <td>found the game a bit too complicated, not what...</td>\n",
       "      <td>Two Stars</td>\n",
       "      <td>1424390400</td>\n",
       "      <td>NaN</td>\n",
       "      <td>NaN</td>\n",
       "      <td>NaN</td>\n",
       "    </tr>\n",
       "    <tr>\n",
       "      <th>4</th>\n",
       "      <td>5</td>\n",
       "      <td>True</td>\n",
       "      <td>12 25, 2014</td>\n",
       "      <td>A2RF5B5H74JLPE</td>\n",
       "      <td>0700026657</td>\n",
       "      <td>jon</td>\n",
       "      <td>great game, I love it and have played it since...</td>\n",
       "      <td>love this game</td>\n",
       "      <td>1419465600</td>\n",
       "      <td>NaN</td>\n",
       "      <td>NaN</td>\n",
       "      <td>NaN</td>\n",
       "    </tr>\n",
       "  </tbody>\n",
       "</table>\n",
       "</div>"
      ],
      "text/plain": [
       "   overall  verified   reviewTime      reviewerID        asin  \\\n",
       "0        5      True  10 17, 2015  A1HP7NVNPFMA4N  0700026657   \n",
       "1        4     False  07 27, 2015  A1JGAP0185YJI6  0700026657   \n",
       "2        3      True  02 23, 2015  A1YJWEXHQBWK2B  0700026657   \n",
       "3        2      True  02 20, 2015  A2204E1TH211HT  0700026657   \n",
       "4        5      True  12 25, 2014  A2RF5B5H74JLPE  0700026657   \n",
       "\n",
       "        reviewerName                                         reviewText  \\\n",
       "0        Ambrosia075  This game is a bit hard to get the hang of, bu...   \n",
       "1             travis  I played it a while but it was alright. The st...   \n",
       "2  Vincent G. Mezera                                           ok game.   \n",
       "3         Grandma KR  found the game a bit too complicated, not what...   \n",
       "4                jon  great game, I love it and have played it since...   \n",
       "\n",
       "                                       summary  unixReviewTime vote style  \\\n",
       "0                  but when you do it's great.      1445040000  NaN   NaN   \n",
       "1  But in spite of that it was fun, I liked it      1437955200  NaN   NaN   \n",
       "2                                  Three Stars      1424649600  NaN   NaN   \n",
       "3                                    Two Stars      1424390400  NaN   NaN   \n",
       "4                               love this game      1419465600  NaN   NaN   \n",
       "\n",
       "  image  \n",
       "0   NaN  \n",
       "1   NaN  \n",
       "2   NaN  \n",
       "3   NaN  \n",
       "4   NaN  "
      ]
     },
     "execution_count": 3,
     "metadata": {},
     "output_type": "execute_result"
    }
   ],
   "source": [
    "primal_data.head(5)"
   ]
  },
  {
   "cell_type": "markdown",
   "id": "ebfc83a5",
   "metadata": {},
   "source": [
    "**reviewerID** - ID of the reviewer, e.g. A1HP7NVNPFMA4N\n",
    "\n",
    "**asin** - ID of the product, e.g. 0700026657\n",
    "\n",
    "**reviewerName** - name of the reviewer\n",
    "\n",
    "**vote** - helpful votes of the review\n",
    "\n",
    "**style** - a disctionary of the product metadata, e.g., \"Format\" is \"Hardcover\"\n",
    "\n",
    "**reviewText** - text of the review\n",
    "\n",
    "**overall** - rating of the product\n",
    "\n",
    "**summary** - summary of the review\n",
    "\n",
    "**unixReviewTime** - time of the review (unix time)\n",
    "\n",
    "**reviewTime** - time of the review (raw)\n",
    "\n",
    "**image** - images that users post after they have received the product\n"
   ]
  },
  {
   "cell_type": "code",
   "execution_count": 6,
   "id": "e9159bb0",
   "metadata": {
    "scrolled": false
   },
   "outputs": [
    {
     "data": {
      "text/plain": [
       "(497577, 12)"
      ]
     },
     "metadata": {},
     "output_type": "display_data"
    },
    {
     "name": "stdout",
     "output_type": "stream",
     "text": [
      "<class 'pandas.core.frame.DataFrame'>\n",
      "RangeIndex: 497577 entries, 0 to 497576\n",
      "Data columns (total 12 columns):\n",
      " #   Column          Non-Null Count   Dtype \n",
      "---  ------          --------------   ----- \n",
      " 0   overall         497577 non-null  int64 \n",
      " 1   verified        497577 non-null  bool  \n",
      " 2   reviewTime      497577 non-null  object\n",
      " 3   reviewerID      497577 non-null  object\n",
      " 4   asin            497577 non-null  object\n",
      " 5   reviewerName    497501 non-null  object\n",
      " 6   reviewText      497419 non-null  object\n",
      " 7   summary         497468 non-null  object\n",
      " 8   unixReviewTime  497577 non-null  int64 \n",
      " 9   vote            107793 non-null  object\n",
      " 10  style           289237 non-null  object\n",
      " 11  image           3634 non-null    object\n",
      "dtypes: bool(1), int64(2), object(9)\n",
      "memory usage: 42.2+ MB\n"
     ]
    },
    {
     "data": {
      "text/plain": [
       "None"
      ]
     },
     "metadata": {},
     "output_type": "display_data"
    }
   ],
   "source": [
    "display(primal_data.shape)\n",
    "display(primal_data.info())"
   ]
  },
  {
   "cell_type": "code",
   "execution_count": 13,
   "id": "402f5a00",
   "metadata": {},
   "outputs": [
    {
     "data": {
      "text/plain": [
       "<AxesSubplot:xlabel='overall', ylabel='count'>"
      ]
     },
     "execution_count": 13,
     "metadata": {},
     "output_type": "execute_result"
    },
    {
     "data": {
      "image/png": "[encoded data removed]",
      "text/plain": [
       "<Figure size 432x288 with 1 Axes>"
      ]
     },
     "metadata": {
      "needs_background": "light"
     },
     "output_type": "display_data"
    }
   ],
   "source": [
    "sns.countplot(primal_data['overall'])"
   ]
  },
  {
   "cell_type": "code",
   "execution_count": 15,
   "id": "5d4f56fc",
   "metadata": {},
   "outputs": [
    {
     "data": {
      "text/plain": [
       "17408"
      ]
     },
     "execution_count": 15,
     "metadata": {},
     "output_type": "execute_result"
    }
   ],
   "source": [
    "len(primal_data['asin'].unique())"
   ]
  },
  {
   "cell_type": "markdown",
   "id": "cdab753e",
   "metadata": {},
   "source": [
    "**result:** we have `497577` rows in dataset, `17408` unique prodict ID, and `disbalance` classes in review rating"
   ]
  },
  {
   "cell_type": "markdown",
   "id": "e7f28e12",
   "metadata": {},
   "source": [
    "# Undersampling of Reviews\n"
   ]
  },
  {
   "cell_type": "code",
   "execution_count": 17,
   "id": "dd8b0ef9",
   "metadata": {},
   "outputs": [],
   "source": [
    "rating_5 = primal_data[primal_data['overall'] == 5].sample(n=1500, random_state=SEED)\n",
    "rating_4 = primal_data[primal_data['overall'] == 4].sample(n=500, random_state=SEED)\n",
    "rating_3 = primal_data[primal_data['overall'] == 3].sample(n=500, random_state=SEED)\n",
    "rating_2 = primal_data[primal_data['overall'] == 2].sample(n=500, random_state=SEED)\n",
    "rating_1 = primal_data[primal_data['overall'] == 1].sample(n=1500, random_state=SEED)"
   ]
  },
  {
   "cell_type": "code",
   "execution_count": 19,
   "id": "6556a4c1",
   "metadata": {},
   "outputs": [],
   "source": [
    "undersampled_reviews = pd.concat([rating_5, rating_4, rating_3, rating_2, rating_1], axis=0)"
   ]
  },
  {
   "cell_type": "code",
   "execution_count": 21,
   "id": "7a64294a",
   "metadata": {},
   "outputs": [
    {
     "data": {
      "text/plain": [
       "5    1500\n",
       "1    1500\n",
       "4     500\n",
       "3     500\n",
       "2     500\n",
       "Name: overall, dtype: int64"
      ]
     },
     "execution_count": 21,
     "metadata": {},
     "output_type": "execute_result"
    }
   ],
   "source": [
    "undersampled_reviews['overall'].value_counts(dropna=False)"
   ]
  },
  {
   "cell_type": "code",
   "execution_count": 22,
   "id": "be8f940f",
   "metadata": {},
   "outputs": [
    {
     "data": {
      "text/plain": [
       "<AxesSubplot:xlabel='overall', ylabel='count'>"
      ]
     },
     "execution_count": 22,
     "metadata": {},
     "output_type": "execute_result"
    },
    {
     "data": {
      "image/png": "[encoded data removed]",
      "text/plain": [
       "<Figure size 432x288 with 1 Axes>"
      ]
     },
     "metadata": {
      "needs_background": "light"
     },
     "output_type": "display_data"
    }
   ],
   "source": [
    "sns.countplot(undersampled_reviews['overall'])"
   ]
  },
  {
   "cell_type": "code",
   "execution_count": 23,
   "id": "b156ef62",
   "metadata": {},
   "outputs": [],
   "source": [
    "sample_100K_revs = primal_data.sample(n=100000, random_state=SEED)"
   ]
  },
  {
   "cell_type": "markdown",
   "id": "e340f0e0",
   "metadata": {},
   "source": [
    "# Extract index and target columns, convert json to csv"
   ]
  },
  {
   "cell_type": "code",
   "execution_count": 24,
   "id": "92ac3c21",
   "metadata": {},
   "outputs": [],
   "source": [
    "#primal_data = primal_data[['reviewText', 'overall']].copy() \n",
    "#primal_data['target'] = primal_data['overall'].apply(lambda row: 1 if row in [5,4] else(-1 if row in [2,1] else 0))\n",
    "#primal_data = primal_data.drop(columns='overall')"
   ]
  },
  {
   "cell_type": "code",
   "execution_count": 25,
   "id": "daa69fb1",
   "metadata": {},
   "outputs": [],
   "source": [
    "undersampled_reviews = undersampled_reviews[['reviewText', 'overall']].copy() \n",
    "sample_100K_revs = sample_100K_revs[['reviewText', 'overall']].copy() "
   ]
  },
  {
   "cell_type": "code",
   "execution_count": 26,
   "id": "b1f9cf82",
   "metadata": {},
   "outputs": [],
   "source": [
    "undersampled_reviews.to_csv('small_corpus.csv', index=False)\n",
    "sample_100K_revs.to_csv('big_corpus.csv', index=False)"
   ]
  }
 ],
 "metadata": {
  "kernelspec": {
   "display_name": "Python 3",
   "language": "python",
   "name": "python3"
  },
  "language_info": {
   "codemirror_mode": {
    "name": "ipython",
    "version": 3
   },
   "file_extension": ".py",
   "mimetype": "text/x-python",
   "name": "python",
   "nbconvert_exporter": "python",
   "pygments_lexer": "ipython3",
   "version": "3.8.8"
  },
  "toc": {
   "base_numbering": 1,
   "nav_menu": {},
   "number_sections": true,
   "sideBar": true,
   "skip_h1_title": false,
   "title_cell": "Table of Contents",
   "title_sidebar": "Contents",
   "toc_cell": false,
   "toc_position": {},
   "toc_section_display": true,
   "toc_window_display": false
  }
 },
 "nbformat": 4,
 "nbformat_minor": 5
}
